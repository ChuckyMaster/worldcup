{
 "cells": [
  {
   "cell_type": "markdown",
   "metadata": {},
   "source": [
    "Colonnes à merge / créer : \n",
    "\n",
    "id_match, \n",
    "récuperer les donner du fichier 2010 (que 2010),\n",
    "home team (team 1) , \n",
    "away_team (team 2),\n",
    "\n",
    "home_result (score team 1)\n",
    "away_result (score team 2 )\n",
    "\n",
    "date \n",
    "\n",
    "round : tour du match (finale / demi / poules etc...)\n",
    "edition : nom de l’édition de la coupe du monde\n",
    "\n",
    "\n",
    " "
   ]
  }
 ],
 "metadata": {
  "language_info": {
   "name": "python"
  }
 },
 "nbformat": 4,
 "nbformat_minor": 2
}
